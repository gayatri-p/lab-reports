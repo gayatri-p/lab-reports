{
  "cells": [
    {
      "cell_type": "markdown",
      "metadata": {
        "id": "jZQYJBBUOVuT"
      },
      "source": [
        "# Computational Physics\n",
        "*1 August, 2024*"
      ]
    },
    {
      "cell_type": "code",
      "execution_count": null,
      "metadata": {
        "id": "Hd9j7xGQStO1"
      },
      "outputs": [],
      "source": [
        "import matplotlib.pyplot as plt\n",
        "import numpy as np\n",
        "import scipy as sp"
      ]
    },
    {
      "cell_type": "markdown",
      "metadata": {
        "id": "55mOGKB_YTno"
      },
      "source": [
        "# Introduction to Python"
      ]
    },
    {
      "cell_type": "markdown",
      "metadata": {
        "id": "rQGVmjuHV2Xu"
      },
      "source": [
        "## Temperature Converter"
      ]
    },
    {
      "cell_type": "code",
      "execution_count": null,
      "metadata": {
        "colab": {
          "base_uri": "https://localhost:8080/"
        },
        "id": "VlqwuEbpUQxR",
        "outputId": "29d69533-18f2-4b72-834e-0b728f6e772f"
      },
      "outputs": [
        {
          "name": "stdout",
          "output_type": "stream",
          "text": [
            "Input the unit of temperature (C/F): f\n",
            "Enter the temperature in Farenheit: 98.6\n",
            "\n",
            "98.6°F is 37.0°C\n"
          ]
        }
      ],
      "source": [
        "choice = input('Input the unit of temperature (C/F): ')\n",
        "if choice.lower() == 'c':\n",
        "  temp = float(input('Enter the temperature in Celsius: '))\n",
        "  print()\n",
        "  print(f'{temp}°C is {temp*1.8 + 32}°F')\n",
        "elif choice.lower() == 'f':\n",
        "  temp = float(input('Enter the temperature in Farenheit: '))\n",
        "  print()\n",
        "  print(f'{temp}°F is {round((temp-32)/1.8, 2)}°C')\n",
        "else:\n",
        "  print('Enter a valid unit of temperature.')\n"
      ]
    },
    {
      "cell_type": "markdown",
      "metadata": {
        "id": "IYQwbHmqWQpl"
      },
      "source": [
        "## Collatz Sequence"
      ]
    },
    {
      "cell_type": "code",
      "execution_count": null,
      "metadata": {
        "colab": {
          "base_uri": "https://localhost:8080/"
        },
        "id": "hF8Ck9wPWSk9",
        "outputId": "099d16da-6fb3-4af2-cb12-098fb3fe4223"
      },
      "outputs": [
        {
          "name": "stdout",
          "output_type": "stream",
          "text": [
            "enter a number between 0 and 10: 2\n",
            "1.0\n",
            "4.0\n",
            "2.0\n",
            "1.0\n",
            "4.0\n",
            "2.0\n",
            "1.0\n",
            "4.0\n",
            "2.0\n",
            "1.0\n",
            "4.0\n",
            "2.0\n",
            "1.0\n",
            "4.0\n",
            "2.0\n",
            "1.0\n",
            "4.0\n",
            "2.0\n",
            "1.0\n",
            "4.0\n",
            "2.0\n",
            "1.0\n",
            "4.0\n",
            "2.0\n",
            "1.0\n",
            "4.0\n",
            "2.0\n",
            "1.0\n",
            "4.0\n",
            "2.0\n",
            "1.0\n",
            "4.0\n",
            "2.0\n",
            "1.0\n",
            "4.0\n",
            "2.0\n",
            "1.0\n",
            "4.0\n",
            "2.0\n",
            "1.0\n",
            "4.0\n",
            "2.0\n",
            "1.0\n",
            "4.0\n",
            "2.0\n",
            "1.0\n",
            "4.0\n",
            "2.0\n",
            "1.0\n",
            "4.0\n"
          ]
        }
      ],
      "source": [
        "x = int(input(\"enter a number between 0 and 10: \"))\n",
        "for _ in range(50):\n",
        "  if x%2 == 0:\n",
        "    x /= 2\n",
        "  else:\n",
        "    x = 3*x+1\n",
        "  print(x)"
      ]
    },
    {
      "cell_type": "markdown",
      "metadata": {
        "id": "fYRm6Zr9Wzqq"
      },
      "source": [
        "## Fibonacci Sequence"
      ]
    },
    {
      "cell_type": "code",
      "execution_count": null,
      "metadata": {
        "colab": {
          "base_uri": "https://localhost:8080/"
        },
        "id": "hMZmRCmSWy-M",
        "outputId": "00927609-0c2b-4531-d437-19a4fd3251e3"
      },
      "outputs": [
        {
          "name": "stdout",
          "output_type": "stream",
          "text": [
            "[1, 1, 2, 3, 5, 8, 13, 21, 34, 55, 89, 144, 233, 377, 610, 987, 1597]\n"
          ]
        }
      ],
      "source": [
        "fibs = [1, 1]\n",
        "while fibs[-1] < 1000:\n",
        "  fibs.append(fibs[-1] + fibs[-2])\n",
        "print(fibs)"
      ]
    },
    {
      "cell_type": "markdown",
      "metadata": {
        "id": "fjP5lZ1XXeZT"
      },
      "source": [
        "## Palindromes"
      ]
    },
    {
      "cell_type": "code",
      "execution_count": null,
      "metadata": {
        "colab": {
          "base_uri": "https://localhost:8080/"
        },
        "id": "Lv2wC-oSXjy6",
        "outputId": "f0bbc049-9eb1-4cf9-bc40-aff67d7a2f68"
      },
      "outputs": [
        {
          "name": "stdout",
          "output_type": "stream",
          "text": [
            "Enter a string: rotor\n",
            "rotor is a palindrome\n"
          ]
        }
      ],
      "source": [
        "inp = input('Enter a string: ')\n",
        "print(f'{inp} is a palindrome') if inp == inp[::-1] else print(f'{inp} is not a palindrome')"
      ]
    },
    {
      "cell_type": "markdown",
      "metadata": {
        "id": "S7lw87OfZdhf"
      },
      "source": [
        "## Factorials"
      ]
    },
    {
      "cell_type": "code",
      "execution_count": null,
      "metadata": {
        "colab": {
          "base_uri": "https://localhost:8080/"
        },
        "id": "uigzMJwrZjtm",
        "outputId": "327ff2f2-1843-438c-c8a3-91a8c409acd2"
      },
      "outputs": [
        {
          "name": "stdout",
          "output_type": "stream",
          "text": [
            "Enter an integer: 6\n",
            "6! = 720\n"
          ]
        }
      ],
      "source": [
        "n = int(input('Enter an integer: '))\n",
        "nfact = 1\n",
        "print(f'{n}! = ', end='')\n",
        "while n > 1:\n",
        "  nfact *= n\n",
        "  n -= 1\n",
        "print(nfact)"
      ]
    },
    {
      "cell_type": "markdown",
      "metadata": {
        "id": "tVKjKpzJcPuY"
      },
      "source": [
        "## Integration"
      ]
    },
    {
      "cell_type": "code",
      "execution_count": null,
      "metadata": {
        "colab": {
          "base_uri": "https://localhost:8080/",
          "height": 452
        },
        "id": "gSsFOiGkcS6H",
        "outputId": "6a70a7a6-c1b6-4821-abc3-4965b330f03b"
      },
      "outputs": [
        {
          "name": "stdout",
          "output_type": "stream",
          "text": [
            "(24.0, 2.6645352591003757e-13)\n"
          ]
        },
        {
          "data": {
            "image/png": "[encoded data removed]",
            "text/plain": [
              "<Figure size 640x480 with 1 Axes>"
            ]
          },
          "metadata": {},
          "output_type": "display_data"
        }
      ],
      "source": [
        "f = lambda x: x**2+x+1\n",
        "a,b = -3,3\n",
        "xs=np.arange(a,b, 0.01)\n",
        "ys=f(xs)\n",
        "plt.plot(xs,ys)\n",
        "plt.plot([xs[0], xs[0]],[0,ys[0]])\n",
        "plt.plot([xs[-1], xs[-1]],[0,ys[-1]])\n",
        "plt.ylim(0,14)\n",
        "print(sp.integrate.quad(f,a,b))"
      ]
    },
    {
      "cell_type": "markdown",
      "metadata": {
        "id": "s4kUZVOEcibQ"
      },
      "source": [
        "## Plots"
      ]
    },
    {
      "cell_type": "code",
      "execution_count": null,
      "metadata": {
        "colab": {
          "base_uri": "https://localhost:8080/",
          "height": 388
        },
        "id": "zILSOhCYckyj",
        "outputId": "fe416b90-9160-49b8-813d-176e30e66c6e"
      },
      "outputs": [
        {
          "data": {
            "image/png": "[encoded data removed]",
            "text/plain": [
              "<Figure size 800x400 with 1 Axes>"
            ]
          },
          "metadata": {},
          "output_type": "display_data"
        }
      ],
      "source": [
        "f = lambda x: np.sin(x)\n",
        "plt.figure(figsize=(8, 4))\n",
        "xs = np.arange(-2*np.pi, 2*np.pi+.1, 0.1)\n",
        "ys = f(xs)\n",
        "plt.plot(xs, ys)\n",
        "plt.axhline(y=0, color='k', linewidth=1)\n",
        "plt.xlabel('$x$')\n",
        "plt.ylabel('$\\sin(x)$')\n",
        "plt.grid()"
      ]
    }
  ],
  "metadata": {
    "colab": {
      "provenance": [],
      "toc_visible": true
    },
    "kernelspec": {
      "display_name": "Python 3",
      "name": "python3"
    },
    "language_info": {
      "name": "python"
    }
  },
  "nbformat": 4,
  "nbformat_minor": 0
}
