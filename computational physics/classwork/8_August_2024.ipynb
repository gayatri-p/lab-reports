{
  "nbformat": 4,
  "nbformat_minor": 0,
  "metadata": {
    "colab": {
      "provenance": []
    },
    "kernelspec": {
      "name": "python3",
      "display_name": "Python 3"
    },
    "language_info": {
      "name": "python"
    }
  },
  "cells": [
    {
      "cell_type": "markdown",
      "source": [
        "Calculate: $(\\sqrt{2})^2-2$"
      ],
      "metadata": {
        "id": "mzW9rA5Nd2mU"
      }
    },
    {
      "cell_type": "code",
      "execution_count": null,
      "metadata": {
        "id": "U0cooSZfGea8",
        "colab": {
          "base_uri": "https://localhost:8080/"
        },
        "outputId": "4c0d7e62-025f-44cf-a99e-758da2f270cb"
      },
      "outputs": [
        {
          "output_type": "execute_result",
          "data": {
            "text/plain": [
              "4.440892098500626e-16"
            ]
          },
          "metadata": {},
          "execution_count": 1
        }
      ],
      "source": [
        "import numpy as np\n",
        "(np.sqrt(2))**2 - 2"
      ]
    },
    {
      "cell_type": "markdown",
      "source": [
        "Check Overflow"
      ],
      "metadata": {
        "id": "LKgYANgVeFqv"
      }
    },
    {
      "cell_type": "code",
      "source": [
        "#Example of Overflow\n",
        "\n",
        "large = 2.**1021\n",
        "for i in range(3):\n",
        " large *= 2\n",
        " print(i, large)"
      ],
      "metadata": {
        "colab": {
          "base_uri": "https://localhost:8080/"
        },
        "id": "1_HG2YMCd7pg",
        "outputId": "706120e3-46c3-409f-c99a-46f2340c5d03"
      },
      "execution_count": null,
      "outputs": [
        {
          "output_type": "stream",
          "name": "stdout",
          "text": [
            "0 4.49423283715579e+307\n",
            "1 8.98846567431158e+307\n",
            "2 inf\n"
          ]
        }
      ]
    },
    {
      "cell_type": "markdown",
      "source": [
        "Check Underflow"
      ],
      "metadata": {
        "id": "9wCy3zXDeX2N"
      }
    },
    {
      "cell_type": "code",
      "source": [
        "#Example of Underflow\n",
        "small = 2.**-1072\n",
        "for i in range(3):\n",
        " small /= 2\n",
        " print(i, small)"
      ],
      "metadata": {
        "colab": {
          "base_uri": "https://localhost:8080/"
        },
        "id": "z82Fe23ceQMq",
        "outputId": "08ec0d9b-73d1-4466-e6e2-2e7d145f8a92"
      },
      "execution_count": null,
      "outputs": [
        {
          "output_type": "stream",
          "name": "stdout",
          "text": [
            "0 1e-323\n",
            "1 5e-324\n",
            "2 0.0\n"
          ]
        }
      ]
    },
    {
      "cell_type": "markdown",
      "source": [
        "Machine double precision"
      ],
      "metadata": {
        "id": "ShtgI_baep_N"
      }
    },
    {
      "cell_type": "code",
      "source": [
        "#Machine precesion\n",
        "small = 1/2**50\n",
        "for i in range(3):\n",
        " small /= 2\n",
        " print(i, 1 + small, small)"
      ],
      "metadata": {
        "colab": {
          "base_uri": "https://localhost:8080/"
        },
        "id": "puUBYu9keidh",
        "outputId": "c493e8b5-678d-47ec-a16b-d44fcff2192c"
      },
      "execution_count": null,
      "outputs": [
        {
          "output_type": "stream",
          "name": "stdout",
          "text": [
            "0 1.0000000000000004 4.440892098500626e-16\n",
            "1 1.0000000000000002 2.220446049250313e-16\n",
            "2 1.0 1.1102230246251565e-16\n"
          ]
        }
      ]
    },
    {
      "cell_type": "code",
      "source": [
        "1. + 1.12e-16"
      ],
      "metadata": {
        "colab": {
          "base_uri": "https://localhost:8080/"
        },
        "id": "rp6NlMVeey-U",
        "outputId": "fa013153-655d-419f-a47b-12189d9ea4de"
      },
      "execution_count": null,
      "outputs": [
        {
          "output_type": "execute_result",
          "data": {
            "text/plain": [
              "1.0000000000000002"
            ]
          },
          "metadata": {},
          "execution_count": 5
        }
      ]
    },
    {
      "cell_type": "code",
      "source": [
        "1. + 1.1e-16"
      ],
      "metadata": {
        "colab": {
          "base_uri": "https://localhost:8080/"
        },
        "id": "UF43lrl4fAA8",
        "outputId": "0c17473d-7321-4714-fca7-7390da4bc0a8"
      },
      "execution_count": null,
      "outputs": [
        {
          "output_type": "execute_result",
          "data": {
            "text/plain": [
              "1.0"
            ]
          },
          "metadata": {},
          "execution_count": 6
        }
      ]
    },
    {
      "cell_type": "markdown",
      "source": [
        "Comparing two numbers"
      ],
      "metadata": {
        "id": "tOiNEQgffNvQ"
      }
    },
    {
      "cell_type": "code",
      "source": [
        "#Comparing two floating point numbers\n",
        "xt = 0.1 + 0.2\n",
        "yt = 0.3\n",
        "xt == yt"
      ],
      "metadata": {
        "colab": {
          "base_uri": "https://localhost:8080/"
        },
        "id": "MnrEI5iqfGCp",
        "outputId": "6f3d6187-06eb-4a0c-cb0a-1f30d6e357a1"
      },
      "execution_count": null,
      "outputs": [
        {
          "output_type": "execute_result",
          "data": {
            "text/plain": [
              "False"
            ]
          },
          "metadata": {},
          "execution_count": 7
        }
      ]
    },
    {
      "cell_type": "code",
      "source": [
        "xt"
      ],
      "metadata": {
        "colab": {
          "base_uri": "https://localhost:8080/"
        },
        "id": "SrQmAww_fXT0",
        "outputId": "5e73526e-c859-479b-f90d-7d12d9f9ee8e"
      },
      "execution_count": null,
      "outputs": [
        {
          "output_type": "execute_result",
          "data": {
            "text/plain": [
              "0.30000000000000004"
            ]
          },
          "metadata": {},
          "execution_count": 8
        }
      ]
    },
    {
      "cell_type": "code",
      "source": [
        "yt"
      ],
      "metadata": {
        "colab": {
          "base_uri": "https://localhost:8080/"
        },
        "id": "rsnzrvvrfavr",
        "outputId": "e531e2a4-7088-42d0-90ad-381fb2a37da2"
      },
      "execution_count": null,
      "outputs": [
        {
          "output_type": "execute_result",
          "data": {
            "text/plain": [
              "0.3"
            ]
          },
          "metadata": {},
          "execution_count": 9
        }
      ]
    },
    {
      "cell_type": "markdown",
      "source": [
        "never compare two numbers for equality but check whether their absolute value of difference is smaller than the minimum threshold."
      ],
      "metadata": {
        "id": "aGFV2JRLfixW"
      }
    },
    {
      "cell_type": "code",
      "source": [
        "abs(xt-yt)"
      ],
      "metadata": {
        "colab": {
          "base_uri": "https://localhost:8080/"
        },
        "id": "YZjl0F-DfdQk",
        "outputId": "ef9448dc-6e1c-4802-abef-fbb513e2b963"
      },
      "execution_count": null,
      "outputs": [
        {
          "output_type": "execute_result",
          "data": {
            "text/plain": [
              "5.551115123125783e-17"
            ]
          },
          "metadata": {},
          "execution_count": 10
        }
      ]
    },
    {
      "cell_type": "code",
      "source": [
        "abs(xt-yt) < 1.e-12"
      ],
      "metadata": {
        "colab": {
          "base_uri": "https://localhost:8080/"
        },
        "id": "pzML5d7wfmmM",
        "outputId": "e6a57722-35ba-4e04-f305-6ced499bd9e7"
      },
      "execution_count": null,
      "outputs": [
        {
          "output_type": "execute_result",
          "data": {
            "text/plain": [
              "True"
            ]
          },
          "metadata": {},
          "execution_count": 11
        }
      ]
    },
    {
      "cell_type": "markdown",
      "source": [
        "The above recipe (called an absolute epsilon) is fine when comparing natural-sized num- bers. However, there are situations where it can lead us astray. For example:"
      ],
      "metadata": {
        "id": "ZrGsSNXLfw51"
      }
    },
    {
      "cell_type": "markdown",
      "source": [
        "Absolute v Relative"
      ],
      "metadata": {
        "id": "rMSlDHegf249"
      }
    },
    {
      "cell_type": "code",
      "source": [
        "xt = 12345678912.345\n",
        "yt = 12345678912.346\n",
        "abs(xt-yt)\n",
        "abs(xt-yt) < 1.e-12"
      ],
      "metadata": {
        "colab": {
          "base_uri": "https://localhost:8080/"
        },
        "id": "3KQKgUfYfqUj",
        "outputId": "cb5bd4ad-e6d3-4241-aa2e-bb7f71cac370"
      },
      "execution_count": null,
      "outputs": [
        {
          "output_type": "execute_result",
          "data": {
            "text/plain": [
              "False"
            ]
          },
          "metadata": {},
          "execution_count": 12
        }
      ]
    },
    {
      "cell_type": "markdown",
      "source": [
        "The solution is to employ a relative epsilon: instead of comparing the two numbers to check whether they match up to a given small number, take into account the magnitude of the numbers themselves, thereby making the comparison relative. To do so, we first introduce a helper function\n",
        "\n",
        "def findmax(x,y): ... return max(abs(x),abs(y))"
      ],
      "metadata": {
        "id": "iJsGANMegKMG"
      }
    },
    {
      "cell_type": "code",
      "source": [
        "def findmax(x,y):\n",
        " return max(abs(x),abs(y))\n",
        "xt = 12345678912.345\n",
        "yt = 12345678912.346\n",
        "abs(xt-yt)/findmax(xt,yt) < 1.e-12"
      ],
      "metadata": {
        "colab": {
          "base_uri": "https://localhost:8080/"
        },
        "id": "tvLgZbbjgEB1",
        "outputId": "8d9c0252-abff-4256-987a-885fabf01f4a"
      },
      "execution_count": null,
      "outputs": [
        {
          "output_type": "execute_result",
          "data": {
            "text/plain": [
              "True"
            ]
          },
          "metadata": {},
          "execution_count": 13
        }
      ]
    },
    {
      "cell_type": "markdown",
      "source": [
        "Problem 11, chapter 2: This problem discusses error buildup when trying to evaluate polynomials without and with the use of Horner’s rule. Take a polynomial of degree 𝑛−1:\n",
        "\n",
        "$𝑃(𝑥)=𝑝_0+𝑝_1 𝑥+𝑝_2𝑥^2+𝑝_3 𝑥^3+···+𝑝_{𝑛−1}𝑥^{𝑛−1}$\n",
        "\n",
        " Write a function that takes in a list containing the $𝑝_𝑖$’s, say coeffs, and the point $x$ and evaluates the value of $P(x)$ in the naive way, i.e., from left to right.\n",
        "\n",
        "Notice that this way of coding up the polynomial contains several (needless) multiplIcations. This is so because $𝑥_𝑖$ is evaluated as $𝑥×𝑥×···×𝑥$ (where there are $𝑖−1$ multiplications). Thus, this way of approaching the problem corresponds to: $1+2+···+𝑛−2=(𝑛−1)(𝑛−2)/2$ multiplications,\n",
        "from $𝑥_2$ all the way up to $𝑥_{𝑛−1}$. If we rewrite the polynomial:\n",
        "\n",
        " $𝑃(𝑥)=𝑝_0+𝑥(𝑝_1+ 𝑥(𝑝_2 + 𝑥(𝑝3+···+𝑥(𝑝_{𝑛−2}+𝑥 𝑝_{𝑛−1})···))).$\n",
        "\n",
        " then we can get away with only $𝑛−1$ multiplications (i.e., no powers are evaluated), which is Horner's method.\n",
        "\n",
        "Apply the previous two functions to the (admittedly artificial) case of:\n",
        "coeffs =[(−11)∗∗𝑖 for i in reversed(range(18))]$=[(-11)^{17}, (-11)^{16}, (-11)^{15}, (-11)^{14}..., (-11)^0]. and   $ 𝑥=11.01$. Observe any discrepancy and discuss its origin.\n",
        "\n"
      ],
      "metadata": {
        "id": "OzLKwdxkh0oP"
      }
    },
    {
      "cell_type": "code",
      "source": [
        "# Plotting the error\n",
        "# Solution to chapter 2, problem 11\n",
        "import matplotlib.pyplot as plt\n",
        "import numpy as np\n",
        "def evalpolynaive(coeffs,x):\n",
        "    p = 0.0\n",
        "    for i in range(len(coeffs)):\n",
        "        p = p + coeffs[i]*x**i\n",
        "    return p\n",
        "def evalpolyhorner(coeffs,x):\n",
        "    n = len(coeffs) - 1\n",
        "    p = coeffs[n]\n",
        "    for i in range(1,n+1):\n",
        "        p = p*x + coeffs[n-i]\n",
        "    return p\n",
        "x1=[]\n",
        "y1=[]\n",
        "for k in range (1,18):\n",
        "  coeffs = [(-11)**i for i in reversed(range(k))]\n",
        "  x = 11.01\n",
        "  print(k,evalpolynaive(coeffs,x),evalpolyhorner(coeffs,x),evalpolynaive(coeffs,x)-evalpolyhorner(coeffs,x))\n",
        "  x1.append(k)\n",
        "  y1.append(evalpolynaive(coeffs,x)-evalpolyhorner(coeffs,x))\n",
        "plt.plot(x1,y1)\n",
        "plt.show()"
      ],
      "metadata": {
        "colab": {
          "base_uri": "https://localhost:8080/",
          "height": 745
        },
        "id": "qdjnXdotgTJY",
        "outputId": "6f974291-ca04-4c5d-8fec-4cb69889d936"
      },
      "execution_count": null,
      "outputs": [
        {
          "output_type": "stream",
          "name": "stdout",
          "text": [
            "1 1.0 1 0.0\n",
            "2 0.009999999999999787 0.009999999999999787 0.0\n",
            "3 121.1101 121.1101 0.0\n",
            "4 2.422200999999859 2.4222010000000864 -2.2737367544323206e-13\n",
            "5 14667.668433010002 14667.668433010002 0.0\n",
            "6 440.029447440058 440.0294474401162 -5.820766091346741e-11\n",
            "7 1776405.7242163154 1776405.7242163157 -2.3283064365386963e-10\n",
            "8 71056.02362162992 71056.02362163365 -3.725290298461914e-09\n",
            "9 215141207.82007417 215141207.8200742 -2.9802322387695312e-08\n",
            "10 10757007.09901619 10757007.099016666 -4.76837158203125e-07\n",
            "11 26055859249.16017 26055859249.160175 -3.814697265625e-06\n",
            "12 1563339722.25354 1563339722.25354 0.0\n",
            "13 3155640747063.0117 3155640747063.0117 0.0\n",
            "14 220892481232.7461 220892481232.7578 -0.01171875\n",
            "15 382181859801613.6 382181859801613.7 -0.0625\n",
            "16 30574107000113.0 30574107000115.5 -2.5\n",
            "17 4.628635078164342e+16 4.628635078164343e+16 -8.0\n"
          ]
        },
        {
          "output_type": "display_data",
          "data": {
            "text/plain": [
              "<Figure size 640x480 with 1 Axes>"
            ],
            "image/png": "[encoded data removed]"
          },
          "metadata": {}
        }
      ]
    },
    {
      "cell_type": "code",
      "source": [
        "import matplotlib.pyplot as plt\n",
        "def hornerpoly(coeffs,x):\n",
        "    n = len(coeffs) - 1\n",
        "    p = coeffs[n]\n",
        "\n",
        "    for i in range(1,n+1):\n",
        "        p = p*x + coeffs[n-i]\n",
        "\n",
        "    return p\n",
        "\n",
        "plt.xlabel('i')\n",
        "plt.ylabel('r(x)')\n",
        "\n",
        "coeffsA = [622, -751, 324, -59, 4]\n",
        "coeffsB = [112, -151, 72, -14, 1]\n",
        "\n",
        "n = 800\n",
        "xs = [1.606 + i*(2**(-52)) for i in range(n)]\n",
        "ys = [hornerpoly(coeffsA,x)/hornerpoly(coeffsB,x) for x in xs]\n",
        "plt.subplot(1,2,1)\n",
        "plt.ylim(8.75237658077842,8.75237658077857)\n",
        "plt.plot(range(n),ys,'ro')\n",
        "plt.xlabel('$1.606 + 2^{-52}i$', fontsize=20)\n",
        "plt.ylabel('$r(x)$', fontsize=20)\n",
        "\n",
        "xs = [2.400 + i*(2**(-52)) for i in range(n)]\n",
        "ys = [hornerpoly(coeffsA,x)/hornerpoly(coeffsB,x) for x in xs]\n",
        "plt.subplot(1,2,2)\n",
        "plt.plot(range(n),ys,'ro')\n",
        "plt.xlabel('$2.400 + 2^{-52}i$', fontsize=20)\n",
        "plt.ylabel('$r(x)$', fontsize=20)\n",
        "plt.subplots_adjust(left=0.1,\n",
        "                    bottom=0.1,\n",
        "                    right=0.9,\n",
        "                    top=0.9,\n",
        "                    wspace=0.4,\n",
        "                    hspace=0.4)\n",
        "plt.show()\n"
      ],
      "metadata": {
        "colab": {
          "base_uri": "https://localhost:8080/",
          "height": 550
        },
        "id": "zA2SqZ8miaAi",
        "outputId": "5099ac10-3315-4907-84f2-390b351ac2b3"
      },
      "execution_count": null,
      "outputs": [
        {
          "output_type": "stream",
          "name": "stderr",
          "text": [
            "<ipython-input-15-42bf18aa14c9>:20: MatplotlibDeprecationWarning: Auto-removal of overlapping axes is deprecated since 3.6 and will be removed two minor releases later; explicitly call ax.remove() as needed.\n",
            "  plt.subplot(1,2,1)\n"
          ]
        },
        {
          "output_type": "display_data",
          "data": {
            "text/plain": [
              "<Figure size 640x480 with 2 Axes>"
            ],
            "image/png": "[encoded data removed]"
          },
          "metadata": {}
        }
      ]
    },
    {
      "cell_type": "code",
      "source": [
        "import sympy\n",
        "from sympy import *\n",
        "x = symbols('x')\n",
        "exprn = 4*x**4 - 59*x**3 + 324*x**2 - 751*x + 622\n",
        "exprd = x**4 - 14*x**3 + 72*x**2 - 151*x + 112\n",
        "expr = exprn/exprd\n",
        "print(\"Before Simplification : {}\".format(expr))\n",
        "#print(\"Before Simplification : {}\".format(exprd))\n",
        "# Use sympy.simplify() method\n",
        "smpln = apart(expr)\n",
        "smpld = apart(smpln)\n",
        "print(\"After Simplification : {}\".format(smpln))\n",
        "print(\"After Simplification : {}\".format(smpld))"
      ],
      "metadata": {
        "colab": {
          "base_uri": "https://localhost:8080/"
        },
        "id": "OhwyUQMMkMV6",
        "outputId": "e564a903-67c5-4af4-ac38-67b2e1a0d0a5"
      },
      "execution_count": null,
      "outputs": [
        {
          "output_type": "stream",
          "name": "stdout",
          "text": [
            "Before Simplification : (4*x**4 - 59*x**3 + 324*x**2 - 751*x + 622)/(x**4 - 14*x**3 + 72*x**2 - 151*x + 112)\n",
            "After Simplification : -3*(x - 2)*(x**2 - 10*x + 29)/(x**4 - 14*x**3 + 72*x**2 - 151*x + 112) + 4\n",
            "After Simplification : -3*(x - 2)*(x**2 - 10*x + 29)/(x**4 - 14*x**3 + 72*x**2 - 151*x + 112) + 4\n"
          ]
        }
      ]
    },
    {
      "cell_type": "code",
      "source": [
        "import matplotlib.pyplot as plt\n",
        "def evalpolybetter(x):\n",
        "    x2 = x-2\n",
        "    x5 = x-5\n",
        "    num = 3*x2*(x5**2 + 4)\n",
        "    denom = x + x2**2*(x5**2 + 3)\n",
        "\n",
        "    return 4 - num/denom\n",
        "plt.xlabel('i')\n",
        "plt.ylabel('r(x)')\n",
        "n = 800\n",
        "xs = [1.606 + i*(2**(-52)) for i in range(n)]\n",
        "ys = [evalpolybetter(x) for x in xs]\n",
        "plt.subplot(1,2,1)\n",
        "plt.ylim(8.75237658077842,8.75237658077857)\n",
        "plt.plot(range(n),ys,'ro')\n",
        "plt.xlabel('$1.606 + 2^{-52}i$', fontsize=20)\n",
        "plt.ylabel('$r(x)$', fontsize=20)\n",
        "\n",
        "xs = [2.400 + i*(2**(-52)) for i in range(n)]\n",
        "ys = [evalpolybetter(x) for x in xs]\n",
        "plt.subplot(1,2,2)\n",
        "plt.plot(range(n),ys,'ro')\n",
        "plt.xlabel('$2.400 + 2^{-52}i$', fontsize=20)\n",
        "plt.ylabel('$r(x)$', fontsize=20)\n",
        "plt.subplots_adjust(left=0.1,\n",
        "                    bottom=0.1,\n",
        "                    right=0.9,\n",
        "                    top=0.9,\n",
        "                    wspace=0.4,\n",
        "                    hspace=0.4)\n",
        "plt.show()"
      ],
      "metadata": {
        "colab": {
          "base_uri": "https://localhost:8080/",
          "height": 550
        },
        "id": "qAiyrFUiko32",
        "outputId": "72099ad1-2909-4d93-8b0a-a59416fa3fb2"
      },
      "execution_count": null,
      "outputs": [
        {
          "output_type": "stream",
          "name": "stderr",
          "text": [
            "<ipython-input-17-3871c19a6669>:14: MatplotlibDeprecationWarning: Auto-removal of overlapping axes is deprecated since 3.6 and will be removed two minor releases later; explicitly call ax.remove() as needed.\n",
            "  plt.subplot(1,2,1)\n"
          ]
        },
        {
          "output_type": "display_data",
          "data": {
            "text/plain": [
              "<Figure size 640x480 with 2 Axes>"
            ],
            "image/png": "[encoded data removed]"
          },
          "metadata": {}
        }
      ]
    },
    {
      "cell_type": "markdown",
      "source": [
        "Associative law of algebra"
      ],
      "metadata": {
        "id": "dFDVW5kuk94p"
      }
    },
    {
      "cell_type": "code",
      "source": [
        "x=(0.7 + 0.1) + 0.3\n",
        "print(x)\n",
        "y= 0.7 + (0.1 + 0.3)\n",
        "print(y)"
      ],
      "metadata": {
        "colab": {
          "base_uri": "https://localhost:8080/"
        },
        "id": "ZrMzSL5Dkyhw",
        "outputId": "15b94fe7-9e9e-4ff0-bed7-5b754f16b7fb"
      },
      "execution_count": null,
      "outputs": [
        {
          "output_type": "stream",
          "name": "stdout",
          "text": [
            "1.0999999999999999\n",
            "1.1\n"
          ]
        }
      ]
    },
    {
      "cell_type": "markdown",
      "source": [
        "Kahan summation"
      ],
      "metadata": {
        "id": "8LO60q32nDSv"
      }
    },
    {
      "cell_type": "code",
      "source": [
        "def kahansum(xs):\n",
        "   t=0.;c=0.\n",
        "   for x in xs:\n",
        "     t0=t\n",
        "     y=x-c\n",
        "     t=t0+y\n",
        "     c=(t-t0)-y\n",
        "   return t\n",
        "xs = [0.7, 0.1, 0.3]\n",
        "print(sum(xs),kahansum(xs))"
      ],
      "metadata": {
        "colab": {
          "base_uri": "https://localhost:8080/"
        },
        "id": "sSHf2vqGlNro",
        "outputId": "00a48409-306b-4190-a3b1-a168238b784d"
      },
      "execution_count": null,
      "outputs": [
        {
          "output_type": "stream",
          "name": "stdout",
          "text": [
            "1.0999999999999999 1.1\n"
          ]
        }
      ]
    },
    {
      "cell_type": "markdown",
      "source": [
        "Associative law of algebra with big numbers"
      ],
      "metadata": {
        "id": "E8ntVwRcnbxo"
      }
    },
    {
      "cell_type": "code",
      "source": [
        "xt = 1.e20; yt = -1.e20; zt = 1.\n",
        "print((xt + yt) + zt)\n",
        "print(xt + (yt + zt))"
      ],
      "metadata": {
        "colab": {
          "base_uri": "https://localhost:8080/"
        },
        "id": "Vz9mCydunUrv",
        "outputId": "240731a2-439d-46cb-f7a6-626e3ee60e70"
      },
      "execution_count": null,
      "outputs": [
        {
          "output_type": "stream",
          "name": "stdout",
          "text": [
            "1.0\n",
            "0.0\n"
          ]
        }
      ]
    },
    {
      "cell_type": "code",
      "source": [
        "def kahansum(xs):\n",
        "  t = 0.; c = 0.\n",
        "  for x in xs:\n",
        "   t0 = t\n",
        "   y=x-c\n",
        "   t = t0 + y\n",
        "   c = (t - t0) - y\n",
        "  return t\n",
        "#  if name == ‘ main ’:\n",
        "xs = [1.e20,1, -1.e20]\n",
        "print(sum(xs), kahansum(xs))"
      ],
      "metadata": {
        "colab": {
          "base_uri": "https://localhost:8080/"
        },
        "id": "jIuYq627n6Sb",
        "outputId": "661ff75d-ac00-4f7d-be48-34ced4e23932"
      },
      "execution_count": null,
      "outputs": [
        {
          "output_type": "stream",
          "name": "stdout",
          "text": [
            "0.0 0.0\n"
          ]
        }
      ]
    },
    {
      "cell_type": "markdown",
      "source": [
        "evaluate function:\n",
        "$f(x) =\\frac{ 1}{\\sqrt{x^2 + 1} - x }$ for large values of x."
      ],
      "metadata": {
        "id": "J1H4_oJXo-dk"
      }
    },
    {
      "cell_type": "code",
      "source": [
        "from math import sqrt\n",
        "def func(x):\n",
        "   return 1/(sqrt(x**2+1) -x)\n",
        "xs = [10**i for i in range(4,8)]\n",
        "ys = [func(x) for x in xs]\n",
        "for x, y in zip(xs,ys):\n",
        "  print(x,y)"
      ],
      "metadata": {
        "colab": {
          "base_uri": "https://localhost:8080/"
        },
        "id": "D_na8AbVo7Zz",
        "outputId": "47c28cac-a1b9-4a93-aa25-6dbb9e07b105"
      },
      "execution_count": null,
      "outputs": [
        {
          "output_type": "stream",
          "name": "stdout",
          "text": [
            "10000 19999.99977764674\n",
            "100000 200000.22333140278\n",
            "1000000 1999984.77112922\n",
            "10000000 19884107.85185185\n"
          ]
        }
      ]
    },
    {
      "cell_type": "markdown",
      "source": [
        "$f(x) =\\frac{ 1}{\\sqrt{x^2 + 1} - x }= \\frac{\\sqrt{x^2 + 1} +x }{(\\sqrt{x^2 + 1} - x )(\\sqrt{x^2 + 1} + x)}= \\sqrt{x^2 + 1} +x  $"
      ],
      "metadata": {
        "id": "df5pkhc5qSc_"
      }
    },
    {
      "cell_type": "code",
      "source": [
        "from math import sqrt\n",
        "def func(x):\n",
        "   return (sqrt(x**2+1) + x)\n",
        "xs = [10**i for i in range(4,8)]\n",
        "ys = [func(x) for x in xs]\n",
        "for x, y in zip(xs,ys):\n",
        "  print(x,y)"
      ],
      "metadata": {
        "colab": {
          "base_uri": "https://localhost:8080/"
        },
        "id": "Ec7Ph7ZBqNDq",
        "outputId": "fc7fddff-2966-4e08-d268-bca255949e12"
      },
      "execution_count": null,
      "outputs": [
        {
          "output_type": "stream",
          "name": "stdout",
          "text": [
            "10000 20000.000050000002\n",
            "100000 200000.00000499998\n",
            "1000000 2000000.0000005001\n",
            "10000000 20000000.000000052\n"
          ]
        }
      ]
    },
    {
      "cell_type": "markdown",
      "source": [
        "**Calculating the Exponential**\n",
        "\n",
        "$e^x $\n",
        "\n",
        "$e^x ≈ \\sum_{n=0}^{n_{max}} \\frac{ x^n}{n!}$.\n",
        "\n",
        "\n",
        "$\\frac{x^n}{n!} = \\frac{x}{n} \\frac{x^{n−1}}{(n - 1)!}$\n",
        "\n",
        "**test for when the new term is “small”**,\n",
        "\n",
        "terminate the loop when it is determined that adding the  $n^{th}$  term to the running total doesn’t change the sum."
      ],
      "metadata": {
        "id": "3O8b1BJZrdSQ"
      }
    },
    {
      "cell_type": "code",
      "source": [
        "from math import exp\n",
        "def compexp(x):\n",
        " n=0\n",
        " oldsum, newsum, term = 0., 1., 1.\n",
        " while newsum != oldsum:\n",
        "   oldsum = newsum\n",
        "   n += 1\n",
        "   term *= x/n\n",
        "   newsum += term\n",
        "   print(n, newsum, term)\n",
        " return newsum\n",
        "for x in (0.1, 20., -20.):\n",
        " print(\"x, library exp(x):\", x, exp(x))\n",
        " val = compexp(x)"
      ],
      "metadata": {
        "colab": {
          "base_uri": "https://localhost:8080/"
        },
        "id": "Bcq0hbAPraMT",
        "outputId": "79e02023-6547-4d17-dc0e-8c2ab9cc8fdb"
      },
      "execution_count": null,
      "outputs": [
        {
          "output_type": "stream",
          "name": "stdout",
          "text": [
            "x, library exp(x): 0.1 1.1051709180756477\n",
            "1 1.1 0.1\n",
            "2 1.105 0.005000000000000001\n",
            "3 1.1051666666666666 0.0001666666666666667\n",
            "4 1.1051708333333332 4.166666666666668e-06\n",
            "5 1.1051709166666666 8.333333333333335e-08\n",
            "6 1.1051709180555553 1.3888888888888892e-09\n",
            "7 1.1051709180753966 1.9841269841269846e-11\n",
            "8 1.1051709180756446 2.480158730158731e-13\n",
            "9 1.1051709180756473 2.75573192239859e-15\n",
            "10 1.1051709180756473 2.75573192239859e-17\n",
            "x, library exp(x): 20.0 485165195.4097903\n",
            "1 21.0 20.0\n",
            "2 221.0 200.0\n",
            "3 1554.3333333333335 1333.3333333333335\n",
            "4 8221.000000000002 6666.666666666668\n",
            "5 34887.66666666667 26666.66666666667\n",
            "6 123776.55555555558 88888.8888888889\n",
            "7 377744.8095238096 253968.25396825402\n",
            "8 1012665.4444444446 634920.634920635\n",
            "9 2423600.1887125224 1410934.744268078\n",
            "10 5245469.677248678 2821869.488536156\n",
            "11 10376141.474587142 5130671.797338465\n",
            "12 18927261.136817917 8551119.662230777\n",
            "13 32082829.84794219 13155568.711124273\n",
            "14 50876499.435262576 18793669.58732039\n",
            "15 75934725.55168976 25058226.116427187\n",
            "16 107257508.19722374 31322782.645533983\n",
            "17 144107840.72138137 36850332.52415763\n",
            "18 185052654.63711208 40944813.9157307\n",
            "19 228152458.75893387 43099804.12182178\n",
            "20 271252262.88075566 43099804.12182178\n",
            "21 312299695.3777288 41047432.49697313\n",
            "22 349615543.10224986 37315847.724521026\n",
            "23 382064106.3409638 32448563.238713935\n",
            "24 409104575.7065587 27040469.365594946\n",
            "25 430736951.1990347 21632375.492475957\n",
            "26 447377240.0394008 16640288.840366121\n",
            "27 459703379.9211535 12326139.881752681\n",
            "28 468507765.5509768 8804385.629823344\n",
            "29 474579755.64051014 6071990.089533341\n",
            "30 478627749.0335324 4047993.393022227\n",
            "31 481239357.6741919 2611608.6406595013\n",
            "32 482871613.0746041 1632255.4004121884\n",
            "33 483860858.7718236 989245.6972195081\n",
            "34 484442768.00548214 581909.2336585342\n",
            "35 484775287.5675727 332519.562090591\n",
            "36 484960020.65762305 184733.09005032835\n",
            "37 485059876.3819746 99855.72435152884\n",
            "38 485112432.0263701 52555.644395541494\n",
            "39 485139383.63888067 26951.612510534098\n",
            "40 485152859.44513595 13475.806255267049\n",
            "41 485159433.0091629 6573.564026959536\n",
            "42 485162563.27774715 3130.2685842664455\n",
            "43 485164019.21662354 1455.938876402998\n",
            "44 485164681.0070219 661.7903983649991\n",
            "45 485164975.13608783 294.1290659399996\n",
            "46 485165103.0182904 127.88220258260851\n",
            "47 485165157.43624896 54.41795854579086\n",
            "48 485165180.11039835 22.674149394079524\n",
            "49 485165189.3651532 9.254754854726336\n",
            "50 485165193.0670551 3.701901941890535\n",
            "51 485165194.51878136 1.4517262517217784\n",
            "52 485165195.0771376 0.5583562506622225\n",
            "53 485165195.28783804 0.2107004719480085\n",
            "54 485165195.36587524 0.07803721183259574\n",
            "55 485165195.3942524 0.028377167939125723\n",
            "56 485165195.4043871 0.010134702835402045\n",
            "57 485165195.4079431 0.0035560360825972084\n",
            "58 485165195.4091694 0.0012262193388266236\n",
            "59 485165195.40958506 0.0004156675724836012\n",
            "60 485165195.40972364 0.00013855585749453372\n",
            "61 485165195.40976906 4.542814999820777e-05\n",
            "62 485165195.4097837 1.4654241934905732e-05\n",
            "63 485165195.40978837 4.65214029679547e-06\n",
            "64 485165195.4097898 1.4537938427485845e-06\n",
            "65 485165195.4097903 4.4732118238417985e-07\n",
            "66 485165195.4097904 1.3555187344975148e-07\n",
            "67 485165195.40979046 4.046324580589596e-08\n",
            "68 485165195.40979046 1.1900954648792928e-08\n",
            "x, library exp(x): -20.0 2.061153622438558e-09\n",
            "1 -19.0 -20.0\n",
            "2 181.0 200.0\n",
            "3 -1152.3333333333335 -1333.3333333333335\n",
            "4 5514.333333333334 6666.666666666668\n",
            "5 -21152.333333333336 -26666.66666666667\n",
            "6 67736.55555555556 88888.8888888889\n",
            "7 -186231.69841269846 -253968.25396825402\n",
            "8 448688.93650793657 634920.634920635\n",
            "9 -962245.8077601413 -1410934.744268078\n",
            "10 1859623.6807760145 2821869.488536156\n",
            "11 -3271048.116562451 -5130671.797338465\n",
            "12 5280071.545668326 8551119.662230777\n",
            "13 -7875497.165455947 -13155568.711124273\n",
            "14 10918172.421864444 18793669.58732039\n",
            "15 -14140053.694562742 -25058226.116427187\n",
            "16 17182728.95097124 31322782.645533983\n",
            "17 -19667603.57318639 -36850332.52415763\n",
            "18 21277210.34254431 40944813.9157307\n",
            "19 -21822593.779277474 -43099804.12182178\n",
            "20 21277210.34254431 43099804.12182178\n",
            "21 -19770222.154428817 -41047432.49697313\n",
            "22 17545625.57009221 37315847.724521026\n",
            "23 -14902937.668621726 -32448563.238713935\n",
            "24 12137531.69697322 27040469.365594946\n",
            "25 -9494843.795502737 -21632375.492475957\n",
            "26 7145445.044863384 16640288.840366121\n",
            "27 -5180694.836889297 -12326139.881752681\n",
            "28 3623690.792934047 8804385.629823344\n",
            "29 -2448299.296599294 -6071990.089533341\n",
            "30 1599694.096422933 4047993.393022227\n",
            "31 -1011914.5442365683 -2611608.6406595013\n",
            "32 620340.8561756201 1632255.4004121884\n",
            "33 -368904.841043888 -989245.6972195081\n",
            "34 213004.39261464623 581909.2336585342\n",
            "35 -119515.16947594477 -332519.562090591\n",
            "36 65217.92057438358 184733.09005032835\n",
            "37 -34637.803777145265 -99855.72435152884\n",
            "38 17917.84061839623 52555.644395541494\n",
            "39 -9033.77189213787 -26951.612510534098\n",
            "40 4442.03436312918 13475.806255267049\n",
            "41 -2131.529663830356 -6573.564026959536\n",
            "42 998.7389204360893 3130.2685842664455\n",
            "43 -457.19995596690865 -1455.938876402998\n",
            "44 204.59044239809043 661.7903983649991\n",
            "45 -89.53862354190915 -294.1290659399996\n",
            "46 38.34357904069937 127.88220258260851\n",
            "47 -16.074379505091493 -54.41795854579086\n",
            "48 6.599769888988032 22.674149394079524\n",
            "49 -2.6549849657383042 -9.254754854726336\n",
            "50 1.0469169761522306 3.701901941890535\n",
            "51 -0.4048092755695478 -1.4517262517217784\n",
            "52 0.15354697509267468 0.5583562506622225\n",
            "53 -0.05715349685533383 -0.2107004719480085\n",
            "54 0.020883714977261908 0.07803721183259574\n",
            "55 -0.007493452961863815 -0.028377167939125723\n",
            "56 0.0026412498735382296 0.010134702835402045\n",
            "57 -0.0009147862090589788 -0.0035560360825972084\n",
            "58 0.00031143312976764483 0.0012262193388266236\n",
            "59 -0.00010423444271595637 -0.0004156675724836012\n",
            "60 3.432141477857734e-05 0.00013855585749453372\n",
            "61 -1.1106735219630428e-05 -4.542814999820777e-05\n",
            "62 3.5475067152753046e-06 1.4654241934905732e-05\n",
            "63 -1.1046335815201656e-06 -4.65214029679547e-06\n",
            "64 3.491602612284189e-07 1.4537938427485845e-06\n",
            "65 -9.816092115576097e-08 -4.4732118238417985e-07\n",
            "66 3.73909522939905e-08 1.3555187344975148e-07\n",
            "67 -3.0722935119054536e-09 -4.046324580589596e-08\n",
            "68 8.828661136887475e-09 1.1900954648792928e-08\n",
            "69 5.379109064773582e-09 -3.449552072113892e-09\n",
            "70 6.364695371091837e-09 9.855863063182549e-10\n",
            "71 6.0870654256500746e-09 -2.7762994544176197e-10\n",
            "72 6.164184854939453e-09 7.711942928937833e-11\n",
            "73 6.1430562441752395e-09 -2.112861076421324e-11\n",
            "74 6.148766679516919e-09 5.710435341679254e-12\n",
            "75 6.147243896759137e-09 -1.5227827577811344e-12\n",
            "76 6.147644629063816e-09 4.007323046792459e-13\n",
            "77 6.147540542750912e-09 -1.0408631290370022e-13\n",
            "78 6.147567231549093e-09 2.668879818043595e-14\n",
            "79 6.147560474891326e-09 -6.756657767198975e-15\n",
            "80 6.147562164055767e-09 1.6891644417997438e-15\n",
            "81 6.147561746978127e-09 -4.17077639950554e-16\n",
            "82 6.147561848704381e-09 1.0172625364647659e-16\n",
            "83 6.147561824192031e-09 -2.4512350276259418e-17\n",
            "84 6.147561830028305e-09 5.836273875299861e-18\n",
            "85 6.147561828655064e-09 -1.3732409118352614e-18\n",
            "86 6.147561828974423e-09 3.1935835158959566e-19\n",
            "87 6.147561828901007e-09 -7.341571300910245e-20\n",
            "88 6.147561828917692e-09 1.6685389320250557e-20\n",
            "89 6.147561828913943e-09 -3.749525689943945e-21\n",
            "90 6.147561828914776e-09 8.332279310986544e-22\n",
            "91 6.147561828914593e-09 -1.8312701782388008e-22\n",
            "92 6.147561828914633e-09 3.9810221266060887e-23\n",
            "93 6.147561828914624e-09 -8.56133790667976e-24\n",
            "94 6.147561828914626e-09 1.8215612567403748e-24\n",
            "95 6.147561828914626e-09 -3.8348658036639467e-25\n"
          ]
        }
      ]
    },
    {
      "cell_type": "markdown",
      "source": [
        "$exp(-x)$ gives error"
      ],
      "metadata": {
        "id": "-EqiAhi-sdGr"
      }
    },
    {
      "cell_type": "code",
      "source": [
        "from math import exp\n",
        "def compexp(x):\n",
        " n=0\n",
        " oldsum, newsum, term = 0., 1., 1.\n",
        " while newsum != oldsum:\n",
        "   oldsum = newsum\n",
        "   n += 1\n",
        "   term *= x/n\n",
        "   newsum += term\n",
        "   print(n, 1/newsum, term)\n",
        " return newsum\n",
        "for x in ( 0.1,20.):\n",
        " print(\"x, library exp(x):\", -x, exp(-x))\n",
        " val = compexp(x)"
      ],
      "metadata": {
        "colab": {
          "base_uri": "https://localhost:8080/"
        },
        "id": "f6tycQBHsAQP",
        "outputId": "f6ecff15-c93b-4fe7-cca5-34cd7466b746"
      },
      "execution_count": null,
      "outputs": [
        {
          "output_type": "stream",
          "name": "stdout",
          "text": [
            "x, library exp(x): -0.1 0.9048374180359595\n",
            "1 0.9090909090909091 0.1\n",
            "2 0.9049773755656109 0.005000000000000001\n",
            "3 0.9048408988086262 0.0001666666666666667\n",
            "4 0.9048374874171038 4.166666666666668e-06\n",
            "5 0.9048374191895358 8.333333333333335e-08\n",
            "6 0.9048374180524097 1.3888888888888892e-09\n",
            "7 0.9048374180361651 1.9841269841269846e-11\n",
            "8 0.9048374180359621 2.480158730158731e-13\n",
            "9 0.9048374180359599 2.75573192239859e-15\n",
            "10 0.9048374180359599 2.75573192239859e-17\n",
            "x, library exp(x): -20.0 2.061153622438558e-09\n",
            "1 0.047619047619047616 20.0\n",
            "2 0.004524886877828055 200.0\n",
            "3 0.0006433626420759167 1333.3333333333335\n",
            "4 0.00012163970319912417 6666.666666666668\n",
            "5 2.8663424514871535e-05 26666.66666666667\n",
            "6 8.079074389423952e-06 88888.8888888889\n",
            "7 2.6472898496225908e-06 253968.25396825402\n",
            "8 9.874929627411222e-07 634920.634920635\n",
            "9 4.12609309347853e-07 1410934.744268078\n",
            "10 1.906406978839908e-07 2821869.488536156\n",
            "11 9.637493883917857e-08 5130671.797338465\n",
            "12 5.283384599448294e-08 8551119.662230777\n",
            "13 3.116932031056919e-08 13155568.711124273\n",
            "14 1.9655440352621795e-08 18793669.58732039\n",
            "15 1.3169205429198357e-08 25058226.116427187\n",
            "16 9.323356628434932e-09 31322782.645533983\n",
            "17 6.939247684193698e-09 36850332.52415763\n",
            "18 5.403867358514787e-09 40944813.9157307\n",
            "19 4.383034070461634e-09 43099804.12182178\n",
            "20 3.686605189500693e-09 43099804.12182178\n",
            "21 3.202052434891083e-09 41047432.49697313\n",
            "22 2.8602847319849743e-09 37315847.724521026\n",
            "23 2.6173618076218195e-09 32448563.238713935\n",
            "24 2.4443627849258692e-09 27040469.365594946\n",
            "25 2.321602540056798e-09 21632375.492475957\n",
            "26 2.235250054097364e-09 16640288.840366121\n",
            "27 2.175315744190343e-09 12326139.881752681\n",
            "28 2.1344363392226274e-09 8804385.629823344\n",
            "29 2.1071273861026026e-09 6071990.089533341\n",
            "30 2.089306359732061e-09 4047993.393022227\n",
            "31 2.077968029948662e-09 2611608.6406595013\n",
            "32 2.0709438553090076e-09 1632255.4004121884\n",
            "33 2.066709844103291e-09 989245.6972195081\n",
            "34 2.0642273268257018e-09 581909.2336585342\n",
            "35 2.0628114213858526e-09 332519.562090591\n",
            "36 2.0620256462459823e-09 184733.09005032835\n",
            "37 2.061601152127703e-09 99855.72435152884\n",
            "38 2.0613778043635898e-09 52555.644395541494\n",
            "39 2.061263285819652e-09 26951.612510534098\n",
            "40 2.061206031319055e-09 13475.806255267049\n",
            "41 2.0611781034485494e-09 6573.564026959536\n",
            "42 2.06116480472859e-09 3130.2685842664455\n",
            "43 2.0611586193359167e-09 1455.938876402998\n",
            "44 2.061155807806065e-09 661.7903983649991\n",
            "45 2.061154558239704e-09 294.1290659399996\n",
            "46 2.0611540149504542e-09 127.88220258260851\n",
            "47 2.0611537837636262e-09 54.41795854579086\n",
            "48 2.0611536874357965e-09 22.674149394079524\n",
            "49 2.061153648118318e-09 9.254754854726336\n",
            "50 2.061153632391327e-09 3.701901941890535\n",
            "51 2.0611536262238795e-09 1.4517262517217784\n",
            "52 2.0611536238517844e-09 0.5583562506622225\n",
            "53 2.061153622956654e-09 0.2107004719480085\n",
            "54 2.0611536226251243e-09 0.07803721183259574\n",
            "55 2.061153622504568e-09 0.028377167939125723\n",
            "56 2.0611536224615125e-09 0.010134702835402045\n",
            "57 2.0611536224464053e-09 0.0035560360825972084\n",
            "58 2.0611536224411957e-09 0.0012262193388266236\n",
            "59 2.0611536224394297e-09 0.0004156675724836012\n",
            "60 2.0611536224388408e-09 0.00013855585749453372\n",
            "61 2.061153622438648e-09 4.542814999820777e-05\n",
            "62 2.0611536224385856e-09 1.4654241934905732e-05\n",
            "63 2.0611536224385657e-09 4.65214029679547e-06\n",
            "64 2.06115362243856e-09 1.4537938427485845e-06\n",
            "65 2.061153622438558e-09 4.4732118238417985e-07\n",
            "66 2.0611536224385575e-09 1.3555187344975148e-07\n",
            "67 2.061153622438557e-09 4.046324580589596e-08\n",
            "68 2.061153622438557e-09 1.1900954648792928e-08\n"
          ]
        }
      ]
    },
    {
      "cell_type": "markdown",
      "source": [
        "examine the behavior of the function $𝑓(𝑥)=(𝑒^𝑥 − 1)/𝑥$ at small (or perhaps intermediate) x"
      ],
      "metadata": {
        "id": "NWwsiH4NtUYH"
      }
    },
    {
      "cell_type": "code",
      "source": [
        "from math import exp, log\n",
        "def f(x):\n",
        "  return (exp(x) - 1)/x\n",
        "def g(x):\n",
        "  w = exp(x)\n",
        "  if w==0.:\n",
        "    val = -1/x\n",
        "  elif w==1.:\n",
        "    val = 1.\n",
        "  else:\n",
        "    val = (w-1)/log(w)\n",
        "  return val\n",
        "xs = [10**(-i) for i in (14, 15, 16)]\n",
        "xs += [-10**(-i) for i in (15, 16, 17)]\n",
        "fvals = [f(x) for x in xs]\n",
        "gvals = [g(x) for x in xs]\n",
        "for x, fval, gval in zip(xs, fvals, gvals):\n",
        "  print(x, fval, gval)"
      ],
      "metadata": {
        "colab": {
          "base_uri": "https://localhost:8080/"
        },
        "id": "0OH9zb0jslJl",
        "outputId": "5f03eb13-c867-4087-fac5-7dd03432bcde"
      },
      "execution_count": null,
      "outputs": [
        {
          "output_type": "stream",
          "name": "stdout",
          "text": [
            "1e-14 0.9992007221626409 1.000000000000005\n",
            "1e-15 1.1102230246251565 1.0000000000000004\n",
            "1e-16 0.0 1.0\n",
            "-1e-15 0.9992007221626408 0.9999999999999994\n",
            "-1e-16 1.1102230246251565 1.0\n",
            "-1e-17 -0.0 1.0\n"
          ]
        }
      ]
    }
  ]
}