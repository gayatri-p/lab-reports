{
 "cells": [
  {
   "cell_type": "markdown",
   "metadata": {
    "id": "T-D1WDSVF5qk"
   },
   "source": [
    "# Assignment 1"
   ]
  },
  {
   "cell_type": "markdown",
   "metadata": {
    "id": "8soeZPCQ8trK"
   },
   "source": [
    "## Problem 1.6\n",
    "The following is implicitly defining a recurrence relation:\n",
    "``` python\n",
    "f0, f1 = 0, 1\n",
    "for i in range(n-1):\n",
    "  f0, f1 = f1, f0+2*f1\n",
    "```\n",
    "We will now produce increasingly fancier versions of this code snippet.\n",
    "\n",
    "**(a)** Define a function that takes in the cardinal number n and returns the corresponding latest value following the above recurrence relation. In other words, for $n = 0$ you should get $0$, for $n = $1 you should get $1$, for $n = 2$ you should get $2$, for $n = 3$ you should get $5$, and so on.\n"
   ]
  },
  {
   "cell_type": "code",
   "execution_count": null,
   "metadata": {
    "colab": {
     "base_uri": "https://localhost:8080/"
    },
    "id": "E1ckiozl9EpK",
    "outputId": "f2b1833e-f57e-4786-e082-74fd64001856"
   },
   "outputs": [
    {
     "name": "stdout",
     "output_type": "stream",
     "text": [
      "0 1 2 5 12 29 70 169 408 "
     ]
    }
   ],
   "source": [
    "def func1(n):\n",
    "  '''Using for loops for the recurrence relation '''\n",
    "  if n == 0:\n",
    "    return 0\n",
    "\n",
    "  f0, f1 = 0, 1\n",
    "  for i in range(n-1):\n",
    "    f0, f1 = f1,f0+2*f1\n",
    "  return f1\n",
    "\n",
    "for i in range(9):\n",
    "  print(func1(i), end=' ')"
   ]
  },
  {
   "cell_type": "markdown",
   "metadata": {
    "id": "_4Bglbd588T5"
   },
   "source": [
    " **(b)** Define a recursive function taking in the cardinal number n and returning the corresponding latest value. The interface of the function will be identical to that of the previous part (the implementation will be different).\n"
   ]
  },
  {
   "cell_type": "code",
   "execution_count": null,
   "metadata": {
    "colab": {
     "base_uri": "https://localhost:8080/"
    },
    "id": "96xE7sYp9X4y",
    "outputId": "cb9a07a6-39b5-4e39-d339-732a956b99d7"
   },
   "outputs": [
    {
     "name": "stdout",
     "output_type": "stream",
     "text": [
      "0 1 2 5 12 29 70 169 408 "
     ]
    }
   ],
   "source": [
    "def func2(n, f0=0, f1=1):\n",
    "  '''The function recursilvely calls on itself perform the recurrence relation'''\n",
    "  if n == 1:\n",
    "    return f1\n",
    "  elif n == 0:\n",
    "    return 0\n",
    "  return func2(n-1, f1, f0+2*f1)\n",
    "\n",
    "for i in range(9):\n",
    "  print(func2(i), end=' ')"
   ]
  },
  {
   "cell_type": "markdown",
   "metadata": {
    "id": "a90YlpTD89yR"
   },
   "source": [
    "**(c)** Define a similar function that is more efficient. Outside the function, define a dictionary `ntoval = {0:0, 1:1}`. Inside the function, you should check to see if the $n$ that was passed in exists as a key in ntoval: if it does, then simply return the corresponding value; if it doesn’t, then carry out the necessary computation and augment the dictionary with a new key-value pair.\n"
   ]
  },
  {
   "cell_type": "code",
   "execution_count": null,
   "metadata": {
    "colab": {
     "base_uri": "https://localhost:8080/"
    },
    "id": "vQuL72W4Bqf-",
    "outputId": "ca90b508-5ec6-4940-d6df-4c1eb729aece"
   },
   "outputs": [
    {
     "name": "stdout",
     "output_type": "stream",
     "text": [
      "0 1 2 5 12 29 70 169 408 "
     ]
    }
   ],
   "source": [
    "ntoval = {0:0, 1:1}\n",
    "\n",
    "def func3(n):\n",
    "  '''Using dynamic programming principles, ntoval reduces the amount of\n",
    "  computation by storing the computed values for later usage.\n",
    "  Note that ntoval is a global variable'''\n",
    "  if n in ntoval:\n",
    "    return ntoval[n]\n",
    "  ntoval[n] = func3(n-2) + 2*func3(n-1)\n",
    "  return ntoval[n]\n",
    "\n",
    "for i in range(9):\n",
    "  print(func3(i), end=' ')"
   ]
  },
  {
   "cell_type": "markdown",
   "metadata": {
    "id": "UDSbyHu18_Ni"
   },
   "source": [
    "**(d)** If you take separation of concerns seriously, you may be feeling uncomfortable\n",
    "about accessing and modifying ntoval inside your function (since it is not being\n",
    "passed in as a parameter). Write a new function that looks like the one in the\n",
    "previous part, but takes in two parameters: n and ntoval.\n"
   ]
  },
  {
   "cell_type": "code",
   "execution_count": null,
   "metadata": {
    "colab": {
     "base_uri": "https://localhost:8080/"
    },
    "id": "NV-IlPJDE8GW",
    "outputId": "4755734f-5098-4775-ee80-fa1cc5f89fb1"
   },
   "outputs": [
    {
     "name": "stdout",
     "output_type": "stream",
     "text": [
      "0 1 2 5 12 29 70 169 408 "
     ]
    }
   ],
   "source": [
    "def func4(n, ntoval):\n",
    "  '''Here ntoval is a local parameter and cannot be referenced outside.\n",
    "  Its value will be erased once the function finishes running'''\n",
    "  if n in ntoval:\n",
    "    return ntoval[n]\n",
    "  ntoval[n] = func4(n-2, ntoval) + 2*func4(n-1, ntoval)\n",
    "  return ntoval[n]\n",
    "\n",
    "ntoval = {0:0, 1:1}\n",
    "for i in range(9):\n",
    "  print(func4(i, ntoval), end=' ')"
   ]
  },
  {
   "cell_type": "markdown",
   "metadata": {
    "id": "Np657vII9AoC"
   },
   "source": [
    "**(e)** While part (d) respects separation of concerns, unfortunately it is not actually efficient. Write a similar function which uses a mutable default parameter value, i.e., it is defined by saying def `f5(n, ntoval = {0:0, 1:1})`:. Test all five functions with $n = 8$: each of them should return $408$. The functions in parts (c) and (e) should be efficient in the sense that if you now call them with, say, $n = 6$ they won’t need to recompute the answer since they have already done so."
   ]
  },
  {
   "cell_type": "code",
   "execution_count": null,
   "metadata": {
    "colab": {
     "base_uri": "https://localhost:8080/"
    },
    "id": "dV4h8bvKFVGc",
    "outputId": "1b678a68-5381-4032-f505-87fa6d9b4888"
   },
   "outputs": [
    {
     "name": "stdout",
     "output_type": "stream",
     "text": [
      "0 1 2 5 12 29 70 169 408 "
     ]
    }
   ],
   "source": [
    "def func5(n, ntoval={0:0, 1:1}):\n",
    "  if n in ntoval:\n",
    "    return ntoval[n]\n",
    "  ntoval[n] = func5(n-2, ntoval) + 2*func5(n-1, ntoval)\n",
    "  return ntoval[n]\n",
    "\n",
    "for i in range(9):\n",
    "  print(func5(i), end=' ')"
   ]
  },
  {
   "cell_type": "markdown",
   "metadata": {
    "id": "mQ-n3K2A34zx"
   },
   "source": [
    "### Testing all 5 functions with $n=8$"
   ]
  },
  {
   "cell_type": "code",
   "execution_count": null,
   "metadata": {
    "id": "p7XxrzYV34zx",
    "outputId": "78b0ccc8-7bb5-4cdf-cf10-220d0e8d3dd8"
   },
   "outputs": [
    {
     "data": {
      "text/plain": [
       "(408, 408, 408, 408, 408)"
      ]
     },
     "execution_count": 21,
     "metadata": {},
     "output_type": "execute_result"
    }
   ],
   "source": [
    "func1(8), func2(8), func3(8), func4(8, ntoval), func5(8)"
   ]
  },
  {
   "cell_type": "markdown",
   "metadata": {
    "id": "UmU1Hv2d34zy"
   },
   "source": [
    "All functions successfully output $408$ with the input value $8$. Now running `func3()` and `func5()` with $n=6$ would be faster since the dictionary ntoval is already defined until $n=8$."
   ]
  },
  {
   "cell_type": "markdown",
   "metadata": {
    "id": "-q0t07-xuRvZ"
   },
   "source": [
    "## Problem 1.8\n",
    "Investigate the relative efficiency of multiplying two one-dimensional NumPy arrays, as and bs; these should be large and with non-constant content. Do this in four distinct ways: (a) sum(as*bs), (b) np.sum(as*bs), (c) np.dot(as,bs), and (d) as@bs.\n",
    "\n",
    "You may wish to use the default_timer() function from the timeit module. To\n",
    "produce meaningful timing results, repeat such calculations thousands of times (at least)."
   ]
  },
  {
   "cell_type": "code",
   "execution_count": null,
   "metadata": {
    "id": "HPFXIPTyFhal"
   },
   "outputs": [],
   "source": [
    "import timeit\n",
    "import numpy as np"
   ]
  },
  {
   "cell_type": "code",
   "execution_count": null,
   "metadata": {
    "id": "J21Amd_7F7L2"
   },
   "outputs": [],
   "source": [
    "# defining two arrays with a size of 1000 filled with random values\n",
    "as_ = np.random.randint(1000, size=1000)\n",
    "bs  = np.random.randint(1000, size=1000)"
   ]
  },
  {
   "cell_type": "code",
   "execution_count": null,
   "metadata": {
    "id": "7Wb41yrpGC01"
   },
   "outputs": [],
   "source": [
    "def measure_runtime(func, n=10000, as_=as_, bs=bs):\n",
    "  '''Function which measures and returns the runtime after n iterations'''\n",
    "  start = timeit.default_timer()\n",
    "  for _ in range(n):\n",
    "    exec(func)\n",
    "  return timeit.default_timer() - start"
   ]
  },
  {
   "cell_type": "code",
   "execution_count": null,
   "metadata": {
    "colab": {
     "base_uri": "https://localhost:8080/"
    },
    "id": "ztNzY1_SGX_7",
    "outputId": "492cc394-9eb8-4711-fd86-32cb91852761"
   },
   "outputs": [
    {
     "name": "stdout",
     "output_type": "stream",
     "text": [
      "Time taken to run 10000 iterations using -\n",
      "(a) sum(as*bs)   : 2.2612098000000174\n",
      "(b) np.sum(as*bs): 0.7885608999999931\n",
      "(c) np.dot(as,bs): 0.602154100000007\n",
      "(d) as@bs        : 0.41048299999999927\n"
     ]
    }
   ],
   "source": [
    "print('Time taken to run 10000 iterations using -')\n",
    "print(f'(a) sum(as*bs)   : {measure_runtime(\"sum(as_*bs)\")}')\n",
    "print(f'(b) np.sum(as*bs): {measure_runtime(\"np.sum(as_*bs)\")}')\n",
    "print(f'(c) np.dot(as,bs): {measure_runtime(\"np.dot(as_,bs)\")}')\n",
    "print(f'(d) as@bs        : {measure_runtime(\"as_@bs\")}')"
   ]
  },
  {
   "cell_type": "markdown",
   "metadata": {
    "id": "_olXHBZW7DBk"
   },
   "source": [
    "### With increased array sizes"
   ]
  },
  {
   "cell_type": "markdown",
   "metadata": {
    "id": "L-53TA2834z1"
   },
   "source": [
    "$n = 10000$"
   ]
  },
  {
   "cell_type": "code",
   "execution_count": null,
   "metadata": {
    "colab": {
     "base_uri": "https://localhost:8080/"
    },
    "id": "au9wpU3s40Xe",
    "outputId": "6ddb17d7-906c-45b7-cdea-6e2564cda4b2"
   },
   "outputs": [
    {
     "name": "stdout",
     "output_type": "stream",
     "text": [
      "Time taken to run 10000 iterations using -\n",
      "(a) sum(as*bs)   : 3.241034500000012\n",
      "(b) np.sum(as*bs): 0.8831915000000095\n",
      "(c) np.dot(as,bs): 0.7570450000000051\n",
      "(d) as@bs        : 0.5745843000000264\n"
     ]
    }
   ],
   "source": [
    "as_ = np.random.randint(1000, size=10000)\n",
    "bs  = np.random.randint(1000, size=10000)\n",
    "print('Time taken to run 10000 iterations using -')\n",
    "print(f'(a) sum(as*bs)   : {measure_runtime(\"sum(as_*bs)\")}')\n",
    "print(f'(b) np.sum(as*bs): {measure_runtime(\"np.sum(as_*bs)\")}')\n",
    "print(f'(c) np.dot(as,bs): {measure_runtime(\"np.dot(as_,bs)\")}')\n",
    "print(f'(d) as@bs        : {measure_runtime(\"as_@bs\")}')"
   ]
  },
  {
   "cell_type": "markdown",
   "metadata": {
    "id": "2agyLPVj34z2"
   },
   "source": [
    "$n=100000$"
   ]
  },
  {
   "cell_type": "code",
   "execution_count": null,
   "metadata": {
    "colab": {
     "base_uri": "https://localhost:8080/"
    },
    "id": "oUuvzwiq7SDK",
    "outputId": "a91e794c-c033-4ddb-bd17-c2f4a0dd31d3"
   },
   "outputs": [
    {
     "name": "stdout",
     "output_type": "stream",
     "text": [
      "Time taken to run 10000 iterations using -\n",
      "(a) sum(as*bs)   : 3.547459799999956\n",
      "(b) np.sum(as*bs): 1.1386421999999925\n",
      "(c) np.dot(as,bs): 0.8884828999999854\n",
      "(d) as@bs        : 0.6484222999999929\n"
     ]
    }
   ],
   "source": [
    "as_ = np.random.randint(1000, size=100000)\n",
    "bs  = np.random.randint(1000, size=100000)\n",
    "print('Time taken to run 10000 iterations using -')\n",
    "print(f'(a) sum(as*bs)   : {measure_runtime(\"sum(as_*bs)\")}')\n",
    "print(f'(b) np.sum(as*bs): {measure_runtime(\"np.sum(as_*bs)\")}')\n",
    "print(f'(c) np.dot(as,bs): {measure_runtime(\"np.dot(as_,bs)\")}')\n",
    "print(f'(d) as@bs        : {measure_runtime(\"as_@bs\")}')"
   ]
  },
  {
   "cell_type": "markdown",
   "metadata": {
    "id": "cCRwC0dP7vsm"
   },
   "source": [
    "**Discussion:** As we can see from the results above, `sum(as*bs)` is the least efficient method to multiply and sum two one-dimensional NumPy matrices. NumPy's built in functions `sum()` and `dot()` and `@` (which means matrix multiplication) run significantly faster with larger array sizes. Although `dot()` and `@` are much faster than multiplying the matrices and then summing them up. `@` is again slightly faster than `dot()`, by a margin that remains approximately constant as the number of elements in the array increases. This means that it could be due to time taken to setup the actual operation."
   ]
  }
 ],
 "metadata": {
  "colab": {
   "provenance": [],
   "toc_visible": true
  },
  "kernelspec": {
   "display_name": "Python 3",
   "language": "python",
   "name": "python3"
  },
  "language_info": {
   "codemirror_mode": {
    "name": "ipython",
    "version": 3
   },
   "file_extension": ".py",
   "mimetype": "text/x-python",
   "name": "python",
   "nbconvert_exporter": "python",
   "pygments_lexer": "ipython3",
   "version": "3.10.9"
  }
 },
 "nbformat": 4,
 "nbformat_minor": 1
}
